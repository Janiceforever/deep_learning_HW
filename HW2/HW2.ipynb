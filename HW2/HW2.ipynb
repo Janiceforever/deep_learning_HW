{
 "cells": [
  {
   "cell_type": "code",
   "execution_count": 1,
   "metadata": {},
   "outputs": [],
   "source": [
    "import numpy as np\n",
    "import pandas as pd\n",
    "import os"
   ]
  },
  {
   "cell_type": "code",
   "execution_count": 2,
   "metadata": {},
   "outputs": [],
   "source": [
    "class HW2(object):\n",
    "    def __init__(self, path):\n",
    "        self.path = path\n",
    "    \n",
    "    def readFeat(self):\n",
    "        filenames = os.listdir(self.path)\n",
    "        for name in filenames:\n",
    "            if name == 'X_train':\n",
    "                self.X_train = pd.read_csv(self.path + name)\n",
    "            elif name == 'Y_train':\n",
    "                self.Y_train = pd.read_csv(self.path + name)\n",
    "            else:\n",
    "                self.X_test = pd.read_csv(self.path + name)\n",
    "                \n",
    "        self.X_train_test = pd.concat([self.X_train, self.X_test])\n",
    "        self.mean = self.X_train_test.mean()\n",
    "        self.std = self.X_train_test.std()\n",
    "        self.X_train_norm = (self.X_train - self.mean)/self.std\n",
    "        self.X_test_norm = (self.X_test - self.mean)/self.std\n",
    "        return self.X_train_norm, self.Y_train, self.X_test_norm\n",
    "    \n",
    "    def calpp(self):\n",
    "        class_id_0 = self.Y_train[self.Y_train.label==0].index.tolist()\n",
    "        class_data_0 = self.X_train_norm.loc[class_id_0]\n",
    "        class_id_1 = self.Y_train[self.Y_train.label==1].index.tolist()\n",
    "        class_data_1 = self.X_train_norm.loc[class_id_1]\n",
    "        \n",
    "        n = class_data_0.shape[1]\n",
    "        cov_0 = np.zeros((n, n))\n",
    "        cov_1 = np.zeros((n, n))\n",
    "        \n",
    "        mean_0 = class_data_0.mean()\n",
    "        print(mean_0.shape)\n",
    "        \n",
    "        mean_1 = class_data_1.mean()\n",
    "        print(mean_1.shape)\n",
    "        \n",
    "        for i in range(class_data_0.shape[0]):\n",
    "            cov_0 += np.dot(np.transpose([class_data_0.iloc[i,:] - mean_0]), [(class_data_0.iloc[i,:] - mean_0)]) / class_data_0.shape[0]\n",
    "        \n",
    "        for j in range(class_data_1.shape[0]):\n",
    "            cov_1 += np.dot(np.transpose([class_data_1.iloc[j,:] - mean_1]), [(class_data_1.iloc[j,:] - mean_1)]) / class_data_1.shape[0]\n",
    "        \n",
    "        mean_0_r = np.asarray(mean_0).reshape(106, 1)\n",
    "        mean_1_r = np.asarray(mean_1).reshape(106, 1)\n",
    "        cov = (cov_0 * class_data_0.shape[0] + cov_1 * class_data_1.shape[1]) / (X_train.shape[0])\n",
    "        self.W = (np.transpose((mean_0_r - mean_1_r))).dot(np.linalg.inv(cov))\n",
    "        self.b = (-0.5)*(np.transpose(mean_0_r).dot(np.linalg.inv(cov))).dot(mean_0_r) \\\n",
    "                + 0.5*(np.transpose(mean_1_r).dot(np.linalg.inv(cov)).dot(mean_1_r) \\\n",
    "                + np.log(np.float(class_data_0.shape[0]/np.float(class_data_1.shape[0]))))\n",
    "        self.W = self.W.reshape(106, )\n",
    "        return self.W, self.b\n",
    "    \n",
    "    def sigmoid(self, x):\n",
    "        return 1 / (1 + np.exp(-x))\n",
    "\n",
    "    def func(self, X):\n",
    "        arr = np.empty([X.shape[0], 1])\n",
    "        for i in range(arr.shape[0]):\n",
    "            z = X[i, :].dot(self.W) + self.b\n",
    "            arr[i][0] = self.sigmoid(z)\n",
    "        self.result = np.clip(arr, 1e-8, 1-(1e-8))\n",
    "        return self.result\n",
    "\n",
    "    def predict(self):\n",
    "        ans = np.zeros((self.result.shape[0], 1))\n",
    "        for i in range(ans.shape[0]):\n",
    "            if self.result[i] >= 0.5:\n",
    "                ans[i][0] = 0\n",
    "            else:\n",
    "                ans[i][0] = 1\n",
    "        return ans"
   ]
  },
  {
   "cell_type": "code",
   "execution_count": 3,
   "metadata": {},
   "outputs": [],
   "source": [
    "hw2 = HW2('./feature/')\n",
    "X_train, Y_train, X_test = hw2.readFeat()\n",
    "W, b = hw2.calpp()\n",
    "result = hw2.func(np.asarray(X_test))\n",
    "predict = hw2.predict()\n",
    "\n",
    "correct = pd.read_csv('correct_answer.csv')\n",
    "correct['self'] = predict"
   ]
  },
  {
   "cell_type": "code",
   "execution_count": 19,
   "metadata": {},
   "outputs": [
    {
     "name": "stdout",
     "output_type": "stream",
     "text": [
      "correct rate: 0.809717\n"
     ]
    }
   ],
   "source": [
    "i = 0\n",
    "for idx, id, label, self in correct.itertuples():\n",
    "    if label == self:\n",
    "        i += 1\n",
    "rate = i / float(len(correct))\n",
    "print('correct rate: %f' %rate)    "
   ]
  },
  {
   "cell_type": "code",
   "execution_count": null,
   "metadata": {},
   "outputs": [],
   "source": []
  }
 ],
 "metadata": {
  "kernelspec": {
   "display_name": "Python 3",
   "language": "python",
   "name": "python3"
  },
  "language_info": {
   "codemirror_mode": {
    "name": "ipython",
    "version": 3
   },
   "file_extension": ".py",
   "mimetype": "text/x-python",
   "name": "python",
   "nbconvert_exporter": "python",
   "pygments_lexer": "ipython3",
   "version": "3.7.2"
  }
 },
 "nbformat": 4,
 "nbformat_minor": 2
}
